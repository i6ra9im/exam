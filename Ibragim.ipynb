{
 "cells": [
  {
   "cell_type": "code",
   "execution_count": 2,
   "metadata": {},
   "outputs": [
    {
     "ename": "SyntaxError",
     "evalue": "invalid syntax (<ipython-input-2-a3b0b5ba6ad3>, line 9)",
     "output_type": "error",
     "traceback": [
      "\u001b[1;36m  File \u001b[1;32m\"<ipython-input-2-a3b0b5ba6ad3>\"\u001b[1;36m, line \u001b[1;32m9\u001b[0m\n\u001b[1;33m    def f(x):\u001b[0m\n\u001b[1;37m      ^\u001b[0m\n\u001b[1;31mSyntaxError\u001b[0m\u001b[1;31m:\u001b[0m invalid syntax\n"
     ]
    }
   ],
   "source": [
    "import pandas as pd\n",
    "import numpy as np\n",
    "import matplotlib.pyplot as plt\n",
    "from numpy import linalg\n",
    "import math\n",
    "\n",
    "x=np.linspace(0, np.pi/2,100)\n",
    "y=(pow(np.exp, x)*(np.cos(x)-np.sin(x))\n",
    "def f(x):\n",
    "\treturn exp(x)*cos(x)\n",
    "print(\"Before Differentiation : {}\".format(exp))\n",
    "\n",
    "def ff(x):\n",
    "\treturn exp(x)*(cos(x)-sin(x))\n",
    "print(\"After Differentiation : {}\".format(dif))\n",
    "f_x=np.zeros(len(x))\n",
    "ff_x=np.zeros(len(x))\n",
    "plt.style.use('seaborn')\n",
    "fig, ax=plt.subplots()\n",
    "ax.plot(x,y,'r', label=\"y(x)\")\n",
    "ax.legend()\n",
    "plt.show()\n",
    "a=min(y)\n",
    "b=max(y)\n",
    "c=(a+b)/2\n",
    "print('min=', a)\n",
    "print('max=', b)\n",
    "print('average=', c)\n",
    "\n",
    "def diff_arr(x, y):\n",
    "    len_arr = len(y)\n",
    "    if len(x) != len_arr:\n",
    "        return None\n",
    "    array_diff = np.zeros(len_arr)\n",
    "    for i in range(len_arr-1):\n",
    "        array_diff[i] = (y[i+1] - y[i])/(x[i+1]-x[i])\n",
    "    array_diff[len_arr-1] = array_diff[len_arr - 2]\n",
    "    return array_diff\n",
    "    \n",
    "Dif = diff_arr(y,x)\n",
    "\n",
    "plt.style.use('seaborn')    \n",
    "fig, ax = plt.subplots()\n",
    "ax.plot(x, Dif, f_x, label='f(x)', linewidth=3)\n",
    "ax.plot(x,Dif, ff_x, label=\"f'(x)\", linewidth=3)\n",
    "ax.set_xlabel(\"x\")\n",
    "ax.set_ylabel(\"f\")\n",
    "ax.set_title(\"График функции и ее производные f(x), f'(x)\")\n",
    "ax.legend()\n",
    "plt.show() \n",
    "\n",
    "\n"
   ]
  },
  {
   "cell_type": "code",
   "execution_count": null,
   "metadata": {},
   "outputs": [],
   "source": []
  }
 ],
 "metadata": {
  "kernelspec": {
   "display_name": "Python 3",
   "language": "python",
   "name": "python3"
  },
  "language_info": {
   "codemirror_mode": {
    "name": "ipython",
    "version": 3
   },
   "file_extension": ".py",
   "mimetype": "text/x-python",
   "name": "python",
   "nbconvert_exporter": "python",
   "pygments_lexer": "ipython3",
   "version": "3.7.4"
  }
 },
 "nbformat": 4,
 "nbformat_minor": 2
}
